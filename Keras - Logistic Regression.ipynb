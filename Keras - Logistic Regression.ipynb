{
 "cells": [
  {
   "cell_type": "code",
   "execution_count": 1,
   "metadata": {},
   "outputs": [
    {
     "name": "stdout",
     "output_type": "stream",
     "text": [
      "TensorFlow version:  2.1.0\n"
     ]
    }
   ],
   "source": [
    "import tensorflow as tf\n",
    "print(\"TensorFlow version: \",tf.version.VERSION)"
   ]
  },
  {
   "cell_type": "code",
   "execution_count": 2,
   "metadata": {},
   "outputs": [
    {
     "name": "stdout",
     "output_type": "stream",
     "text": [
      "Downloading data from https://storage.googleapis.com/tensorflow/tf-keras-datasets/mnist.npz\n",
      "11493376/11490434 [==============================] - 8s 1us/step\n"
     ]
    }
   ],
   "source": [
    "mnist = tf.keras.datasets.mnist\n",
    "\n",
    "(x_train, y_train), (x_test, y_test) = mnist.load_data()\n",
    "x_train, x_test = x_train / 255.0, x_test / 255.0"
   ]
  },
  {
   "cell_type": "code",
   "execution_count": 5,
   "metadata": {},
   "outputs": [],
   "source": [
    "model =tf.keras.Sequential([\n",
    "    tf.keras.layers.Flatten(input_shape=(28, 28)),\n",
    "    tf.keras.layers.Dense(128,activation=\"relu\"),\n",
    "    tf.keras.layers.Dense(64,activation=\"relu\"),\n",
    "    tf.keras.layers.Dense(32,activation=\"tanh\"),\n",
    "    tf.keras.layers.Dropout(0.2),\n",
    "    tf.keras.layers.Dense(10)   \n",
    "])\n",
    "\n",
    "'''\n",
    "model_tst = tf.keras.models.Sequential([\n",
    "    tf.keras.layers.Flatten(),\n",
    "    tf.keras.layers.Dense(units=128, activation=\"relu\", name=\"h0\"),\n",
    "    tf.keras.layers.Dense(units=128, activation=\"relu\", name=\"h1\"),\n",
    "    tf.keras.layers.Dense(units=128, activation=\"relu\", name=\"h2\"),\n",
    "    tf.keras.layers.Dense(units=10, activation=\"softmax\", name=\"output\")\n",
    "    ])\n",
    "'''"
   ]
  },
  {
   "cell_type": "code",
   "execution_count": 6,
   "metadata": {},
   "outputs": [
    {
     "name": "stdout",
     "output_type": "stream",
     "text": [
      "WARNING:tensorflow:Layer flatten_1 is casting an input tensor from dtype float64 to the layer's dtype of float32, which is new behavior in TensorFlow 2.  The layer has dtype float32 because it's dtype defaults to floatx.\n",
      "\n",
      "If you intended to run this layer in float32, you can safely ignore this warning. If in doubt, this warning is likely only an issue if you are porting a TensorFlow 1.X model to TensorFlow 2.\n",
      "\n",
      "To change all layers to have dtype float64 by default, call `tf.keras.backend.set_floatx('float64')`. To change just this layer, pass dtype='float64' to the layer constructor. If you are the author of this layer, you can disable autocasting by passing autocast=False to the base Layer constructor.\n",
      "\n"
     ]
    },
    {
     "data": {
      "text/plain": [
       "array([[ 0.5805881 ,  0.6358318 ,  0.2853106 ,  0.30404866,  0.72358334,\n",
       "        -0.56760824, -0.56587434,  0.05035911,  0.08061185,  0.2260989 ]],\n",
       "      dtype=float32)"
      ]
     },
     "execution_count": 6,
     "metadata": {},
     "output_type": "execute_result"
    }
   ],
   "source": [
    "predictions = model(x_train[:1]).numpy()\n",
    "predictions"
   ]
  },
  {
   "cell_type": "markdown",
   "metadata": {},
   "source": [
    "For each example the model returns a vector of \"logits\" or \"log-odds\" scores, one for each class. The tf.nn.softmax function converts these logits to \"probabilities\" for each class:"
   ]
  },
  {
   "cell_type": "code",
   "execution_count": 7,
   "metadata": {},
   "outputs": [
    {
     "data": {
      "text/plain": [
       "array([[0.13803071, 0.14587058, 0.10273971, 0.104683  , 0.15924938,\n",
       "        0.0437845 , 0.04386048, 0.08122696, 0.08372184, 0.09683292]],\n",
       "      dtype=float32)"
      ]
     },
     "execution_count": 7,
     "metadata": {},
     "output_type": "execute_result"
    }
   ],
   "source": [
    "tf.nn.softmax(predictions).numpy()"
   ]
  },
  {
   "cell_type": "code",
   "execution_count": 8,
   "metadata": {},
   "outputs": [],
   "source": [
    "loss_fn = tf.keras.losses.SparseCategoricalCrossentropy(from_logits=True)"
   ]
  },
  {
   "cell_type": "code",
   "execution_count": 9,
   "metadata": {},
   "outputs": [],
   "source": [
    "model.compile(optimizer='adam',\n",
    "              loss=loss_fn,\n",
    "              metrics=['accuracy'])"
   ]
  },
  {
   "cell_type": "code",
   "execution_count": 10,
   "metadata": {},
   "outputs": [
    {
     "name": "stdout",
     "output_type": "stream",
     "text": [
      "Train on 60000 samples\n",
      "Epoch 1/6\n",
      "60000/60000 [==============================] - 9s 149us/sample - loss: 0.2647 - accuracy: 0.9262\n",
      "Epoch 2/6\n",
      "60000/60000 [==============================] - 9s 143us/sample - loss: 0.1155 - accuracy: 0.9658\n",
      "Epoch 3/6\n",
      "60000/60000 [==============================] - 10s 169us/sample - loss: 0.0830 - accuracy: 0.9750\n",
      "Epoch 4/6\n",
      "60000/60000 [==============================] - 11s 188us/sample - loss: 0.0665 - accuracy: 0.9805\n",
      "Epoch 5/6\n",
      "60000/60000 [==============================] - 7s 120us/sample - loss: 0.0547 - accuracy: 0.9834\n",
      "Epoch 6/6\n",
      "60000/60000 [==============================] - 7s 124us/sample - loss: 0.0473 - accuracy: 0.9858\n"
     ]
    },
    {
     "data": {
      "text/plain": [
       "<tensorflow.python.keras.callbacks.History at 0x19bfa598388>"
      ]
     },
     "execution_count": 10,
     "metadata": {},
     "output_type": "execute_result"
    }
   ],
   "source": [
    "model.fit(x_train, y_train, epochs=6)"
   ]
  },
  {
   "cell_type": "code",
   "execution_count": 11,
   "metadata": {},
   "outputs": [
    {
     "name": "stdout",
     "output_type": "stream",
     "text": [
      "10000/10000 - 1s - loss: 0.0858 - accuracy: 0.9779\n"
     ]
    },
    {
     "data": {
      "text/plain": [
       "[0.08577657029847614, 0.9779]"
      ]
     },
     "execution_count": 11,
     "metadata": {},
     "output_type": "execute_result"
    }
   ],
   "source": [
    "model.evaluate(x_test,  y_test, verbose=2)"
   ]
  },
  {
   "cell_type": "code",
   "execution_count": 12,
   "metadata": {},
   "outputs": [
    {
     "data": {
      "text/plain": [
       "<tf.Tensor: shape=(5, 10), dtype=float32, numpy=\n",
       "array([[9.45528063e-06, 3.00997835e-05, 1.28735424e-04, 6.01666863e-04,\n",
       "        1.03114571e-05, 2.97657971e-05, 4.06078607e-06, 9.99077320e-01,\n",
       "        3.41484179e-06, 1.05178464e-04],\n",
       "       [4.77244866e-05, 3.82793005e-05, 9.99439061e-01, 2.95192935e-04,\n",
       "        9.04796434e-06, 4.56355792e-07, 3.24855464e-05, 1.99011865e-05,\n",
       "        1.17323485e-04, 3.88946461e-07],\n",
       "       [3.61603679e-06, 9.99866843e-01, 2.70334226e-06, 1.29740442e-06,\n",
       "        5.92631986e-05, 1.23295615e-06, 3.07575719e-05, 1.76808899e-05,\n",
       "        1.28015163e-05, 3.91242293e-06],\n",
       "       [9.99869585e-01, 1.32974537e-06, 3.44884538e-05, 8.06028129e-06,\n",
       "        6.06639742e-06, 4.89734703e-06, 4.05456631e-05, 1.95892389e-05,\n",
       "        3.10190148e-06, 1.23600576e-05],\n",
       "       [3.47187779e-05, 1.87754795e-05, 9.50709455e-06, 4.90583307e-06,\n",
       "        9.98473942e-01, 3.01918681e-06, 3.66373060e-05, 7.13407644e-05,\n",
       "        6.52970175e-06, 1.34063221e-03]], dtype=float32)>"
      ]
     },
     "execution_count": 12,
     "metadata": {},
     "output_type": "execute_result"
    }
   ],
   "source": [
    "probability_model = tf.keras.Sequential([\n",
    "  model,\n",
    "  tf.keras.layers.Softmax()\n",
    "])\n",
    "probability_model(x_test[:5])"
   ]
  },
  {
   "cell_type": "code",
   "execution_count": null,
   "metadata": {},
   "outputs": [],
   "source": []
  }
 ],
 "metadata": {
  "kernelspec": {
   "display_name": "Python 3",
   "language": "python",
   "name": "python3"
  },
  "language_info": {
   "codemirror_mode": {
    "name": "ipython",
    "version": 3
   },
   "file_extension": ".py",
   "mimetype": "text/x-python",
   "name": "python",
   "nbconvert_exporter": "python",
   "pygments_lexer": "ipython3",
   "version": "3.7.4"
  }
 },
 "nbformat": 4,
 "nbformat_minor": 2
}
