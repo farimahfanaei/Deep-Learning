{
 "cells": [
  {
   "cell_type": "code",
   "execution_count": 2,
   "metadata": {},
   "outputs": [
    {
     "name": "stderr",
     "output_type": "stream",
     "text": [
      "Using TensorFlow backend.\n"
     ]
    }
   ],
   "source": [
    "import keras\n",
    "from keras import backend as k \n",
    "from keras.models import Sequential\n",
    "from keras.layers import Activation\n",
    "from keras.layers.core import Dense\n",
    "from keras.optimizers import Adam \n",
    "from keras.metrics import categorical_crossentropy"
   ]
  },
  {
   "cell_type": "code",
   "execution_count": 22,
   "metadata": {},
   "outputs": [
    {
     "data": {
      "text/plain": [
       "2100"
      ]
     },
     "execution_count": 22,
     "metadata": {},
     "output_type": "execute_result"
    }
   ],
   "source": [
    "len(train_samples)"
   ]
  },
  {
   "cell_type": "code",
   "execution_count": 5,
   "metadata": {},
   "outputs": [],
   "source": [
    "import numpy as np\n",
    "from random import randint\n",
    "from sklearn.preprocessing import MinMaxScaler\n"
   ]
  },
  {
   "cell_type": "code",
   "execution_count": 26,
   "metadata": {},
   "outputs": [],
   "source": [
    "################## Data Generation #########################\n",
    "train_labels=[]\n",
    "train_samples=[]\n",
    "#Generating the Data with Binary output in a random way just for the sake of this DL model training with 2100 input data\n",
    "for i in range(1000):\n",
    "    younger=randint(13,61)\n",
    "    train_samples.append(younger)\n",
    "    train_labels.append(0)\n",
    "    olders=randint(62,101)\n",
    "    train_samples.append(olders)\n",
    "    train_labels.append(1)\n",
    "for i in range(50):\n",
    "    younger=randint(13,61)\n",
    "    train_samples.append(younger)\n",
    "    train_labels.append(1)\n",
    "    olders=randint(62,101)\n",
    "    train_samples.append(olders)\n",
    "    train_labels.append(0)\n",
    "    "
   ]
  },
  {
   "cell_type": "code",
   "execution_count": 27,
   "metadata": {},
   "outputs": [
    {
     "data": {
      "text/plain": [
       "<matplotlib.axes._subplots.AxesSubplot at 0x210301369c8>"
      ]
     },
     "execution_count": 27,
     "metadata": {},
     "output_type": "execute_result"
    },
    {
     "data": {
      "image/png": "[encoded data removed]",
      "text/plain": [
       "<Figure size 432x288 with 1 Axes>"
      ]
     },
     "metadata": {
      "needs_background": "light"
     },
     "output_type": "display_data"
    }
   ],
   "source": [
    "#joint plot\n",
    "import seaborn as sb\n",
    "sb.distplot(train_samples)"
   ]
  },
  {
   "cell_type": "code",
   "execution_count": 29,
   "metadata": {},
   "outputs": [],
   "source": [
    "######################## Data Pre-processing ########################\n",
    "#converting list to numpy array for keras\n",
    "train_labels=np.array(train_labels)\n",
    "train_samples=np.array(train_samples)\n",
    "\n",
    "# to make is easier for the NN to train this data (do the optimization process) we need to get the data in the followin \n",
    "# form inorder to scale the inputes into a smaller range \n",
    "\n",
    "scaler= MinMaxScaler(feature_range=(0,1))\n",
    "scaled_training=scaler.fit_transform((train_samples).reshape(-1,1))\n",
    "\n"
   ]
  },
  {
   "cell_type": "code",
   "execution_count": 3,
   "metadata": {},
   "outputs": [],
   "source": [
    "model = Sequential([\n",
    "    #the first layer has 16 hidden units and an input with arrays of shape (*, 1)\n",
    "    Dense(16,input_shape=(1,),activation=\"relu\"),\n",
    "    Dense(32, activation=\"relu\"),\n",
    "    Dense(2, activation=\"softmax\")\n",
    "])"
   ]
  },
  {
   "cell_type": "code",
   "execution_count": 4,
   "metadata": {},
   "outputs": [],
   "source": [
    "#Adam is an optimization method which is a derivation of SGD\n",
    "model.compile(Adam(lr=0.0001),loss=\"sparse_categorical_crossentropy\", metrics=[\"accuracy\"])"
   ]
  },
  {
   "cell_type": "code",
   "execution_count": 31,
   "metadata": {},
   "outputs": [
    {
     "name": "stdout",
     "output_type": "stream",
     "text": [
      "Epoch 1/20\n",
      " - 1s - loss: 0.7023 - accuracy: 0.5738\n",
      "Epoch 2/20\n",
      " - 0s - loss: 0.6712 - accuracy: 0.8062\n",
      "Epoch 3/20\n",
      " - 0s - loss: 0.6424 - accuracy: 0.7914\n",
      "Epoch 4/20\n",
      " - 0s - loss: 0.6085 - accuracy: 0.8110\n",
      "Epoch 5/20\n",
      " - 1s - loss: 0.5739 - accuracy: 0.8438\n",
      "Epoch 6/20\n",
      " - 0s - loss: 0.5372 - accuracy: 0.8510\n",
      "Epoch 7/20\n",
      " - 1s - loss: 0.4997 - accuracy: 0.8671\n",
      "Epoch 8/20\n",
      " - 1s - loss: 0.4637 - accuracy: 0.8843\n",
      "Epoch 9/20\n",
      " - 1s - loss: 0.4303 - accuracy: 0.8967\n",
      "Epoch 10/20\n",
      " - 0s - loss: 0.4008 - accuracy: 0.8995\n",
      "Epoch 11/20\n",
      " - 1s - loss: 0.3755 - accuracy: 0.9076\n",
      "Epoch 12/20\n",
      " - 0s - loss: 0.3546 - accuracy: 0.9110\n",
      "Epoch 13/20\n",
      " - 0s - loss: 0.3372 - accuracy: 0.9186\n",
      "Epoch 14/20\n",
      " - 0s - loss: 0.3226 - accuracy: 0.9205\n",
      "Epoch 15/20\n",
      " - 0s - loss: 0.3109 - accuracy: 0.9252\n",
      "Epoch 16/20\n",
      " - 0s - loss: 0.3016 - accuracy: 0.9271\n",
      "Epoch 17/20\n",
      " - 0s - loss: 0.2941 - accuracy: 0.9267\n",
      "Epoch 18/20\n",
      " - 1s - loss: 0.2881 - accuracy: 0.9305\n",
      "Epoch 19/20\n",
      " - 1s - loss: 0.2832 - accuracy: 0.9305\n",
      "Epoch 20/20\n",
      " - 0s - loss: 0.2790 - accuracy: 0.9305\n"
     ]
    },
    {
     "data": {
      "text/plain": [
       "<keras.callbacks.callbacks.History at 0x210308e48c8>"
      ]
     },
     "execution_count": 31,
     "metadata": {},
     "output_type": "execute_result"
    }
   ],
   "source": [
    "model.fit(scaled_training,train_labels,batch_size=10, epochs=20,shuffle=True, verbose=2)    "
   ]
  },
  {
   "cell_type": "code",
   "execution_count": null,
   "metadata": {},
   "outputs": [],
   "source": []
  }
 ],
 "metadata": {
  "kernelspec": {
   "display_name": "Python 3",
   "language": "python",
   "name": "python3"
  },
  "language_info": {
   "codemirror_mode": {
    "name": "ipython",
    "version": 3
   },
   "file_extension": ".py",
   "mimetype": "text/x-python",
   "name": "python",
   "nbconvert_exporter": "python",
   "pygments_lexer": "ipython3",
   "version": "3.7.4"
  }
 },
 "nbformat": 4,
 "nbformat_minor": 2
}
