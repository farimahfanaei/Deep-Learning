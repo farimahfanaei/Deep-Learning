{
 "cells": [
  {
   "cell_type": "code",
   "execution_count": 2,
   "metadata": {},
   "outputs": [
    {
     "name": "stderr",
     "output_type": "stream",
     "text": [
      "Using TensorFlow backend.\n"
     ]
    }
   ],
   "source": [
    "import keras\n",
    "from keras import backend as k \n",
    "from keras.models import Sequential\n",
    "from keras.layers import Activation\n",
    "from keras.layers.core import Dense\n",
    "from keras.optimizers import Adam \n",
    "from keras.metrics import categorical_crossentropy"
   ]
  },
  {
   "cell_type": "code",
   "execution_count": 3,
   "metadata": {},
   "outputs": [],
   "source": [
    "import numpy as np\n",
    "from random import randint\n",
    "from sklearn.preprocessing import MinMaxScaler\n"
   ]
  },
  {
   "cell_type": "code",
   "execution_count": 11,
   "metadata": {},
   "outputs": [],
   "source": [
    "################## Data Generation #########################\n",
    "train_labels=[]\n",
    "train_samples=[]\n",
    "#Generating the Data with Binary output in a random way just for the sake of this DL model training with 2100 input data\n",
    "for i in range(1000):\n",
    "    younger=randint(13,61)\n",
    "    train_samples.append(younger)\n",
    "    train_labels.append(0)\n",
    "    olders=randint(62,101)\n",
    "    train_samples.append(olders)\n",
    "    train_labels.append(1)\n",
    "for i in range(50):\n",
    "    younger=randint(13,61)\n",
    "    train_samples.append(younger)\n",
    "    train_labels.append(1)\n",
    "    olders=randint(62,101)\n",
    "    train_samples.append(olders)\n",
    "    train_labels.append(0)\n",
    "    "
   ]
  },
  {
   "cell_type": "code",
   "execution_count": 12,
   "metadata": {},
   "outputs": [
    {
     "data": {
      "text/plain": [
       "<matplotlib.axes._subplots.AxesSubplot at 0x1d6f551a688>"
      ]
     },
     "execution_count": 12,
     "metadata": {},
     "output_type": "execute_result"
    },
    {
     "data": {
      "image/png": "[encoded data removed]",
      "text/plain": [
       "<Figure size 432x288 with 1 Axes>"
      ]
     },
     "metadata": {
      "needs_background": "light"
     },
     "output_type": "display_data"
    }
   ],
   "source": [
    "#joint plot\n",
    "import seaborn as sb\n",
    "sb.distplot(train_samples)"
   ]
  },
  {
   "cell_type": "code",
   "execution_count": 13,
   "metadata": {},
   "outputs": [],
   "source": [
    "######################## Data Pre-processing ########################\n",
    "#converting list to numpy array for keras\n",
    "train_labels=np.array(train_labels)\n",
    "train_samples=np.array(train_samples)\n",
    "\n",
    "# to make is easier for the NN to train this data (do the optimization process) we need to get the data in the followin \n",
    "# form inorder to scale the inputes into a smaller range \n",
    "\n",
    "scaler= MinMaxScaler(feature_range=(0,1))\n",
    "scaled_training=scaler.fit_transform((train_samples).reshape(-1,1))\n",
    "\n"
   ]
  },
  {
   "cell_type": "code",
   "execution_count": 14,
   "metadata": {},
   "outputs": [],
   "source": [
    "model = Sequential([\n",
    "    #the first layer has 16 hidden units and an input with arrays of shape (*, 1)\n",
    "    Dense(16,input_shape=(1,),activation=\"relu\"),\n",
    "    Dense(32, activation=\"relu\"),\n",
    "    Dense(2, activation=\"softmax\")\n",
    "])"
   ]
  },
  {
   "cell_type": "code",
   "execution_count": 8,
   "metadata": {},
   "outputs": [],
   "source": [
    "#Adam is an optimization method which is a derivation of SGD\n",
    "model.compile(Adam(lr=0.0001),loss=\"sparse_categorical_crossentropy\", metrics=[\"accuracy\"])"
   ]
  },
  {
   "cell_type": "code",
   "execution_count": 9,
   "metadata": {},
   "outputs": [
    {
     "name": "stdout",
     "output_type": "stream",
     "text": [
      "Epoch 1/30\n",
      " - 1s - loss: 0.6852 - accuracy: 0.5876\n",
      "Epoch 2/30\n",
      " - 1s - loss: 0.6669 - accuracy: 0.6586\n",
      "Epoch 3/30\n",
      " - 0s - loss: 0.6435 - accuracy: 0.7210\n",
      "Epoch 4/30\n",
      " - 0s - loss: 0.6157 - accuracy: 0.7605\n",
      "Epoch 5/30\n",
      " - 0s - loss: 0.5873 - accuracy: 0.7838\n",
      "Epoch 6/30\n",
      " - 0s - loss: 0.5578 - accuracy: 0.8214\n",
      "Epoch 7/30\n",
      " - 0s - loss: 0.5273 - accuracy: 0.8276\n",
      "Epoch 8/30\n",
      " - 0s - loss: 0.4970 - accuracy: 0.8505\n",
      "Epoch 9/30\n",
      " - 0s - loss: 0.4677 - accuracy: 0.8743\n",
      "Epoch 10/30\n",
      " - 0s - loss: 0.4386 - accuracy: 0.8876\n",
      "Epoch 11/30\n",
      " - 0s - loss: 0.4117 - accuracy: 0.9014\n",
      "Epoch 12/30\n",
      " - 0s - loss: 0.3880 - accuracy: 0.9090\n",
      "Epoch 13/30\n",
      " - 0s - loss: 0.3677 - accuracy: 0.9152\n",
      "Epoch 14/30\n",
      " - 0s - loss: 0.3504 - accuracy: 0.9229\n",
      "Epoch 15/30\n",
      " - 0s - loss: 0.3363 - accuracy: 0.9224\n",
      "Epoch 16/30\n",
      " - 0s - loss: 0.3244 - accuracy: 0.9267\n",
      "Epoch 17/30\n",
      " - 0s - loss: 0.3146 - accuracy: 0.9300\n",
      "Epoch 18/30\n",
      " - 0s - loss: 0.3066 - accuracy: 0.9333\n",
      "Epoch 19/30\n",
      " - 0s - loss: 0.2995 - accuracy: 0.9357\n",
      "Epoch 20/30\n",
      " - 0s - loss: 0.2938 - accuracy: 0.9371\n",
      "Epoch 21/30\n",
      " - 0s - loss: 0.2889 - accuracy: 0.9386\n",
      "Epoch 22/30\n",
      " - 0s - loss: 0.2848 - accuracy: 0.9386\n",
      "Epoch 23/30\n",
      " - 0s - loss: 0.2813 - accuracy: 0.9381\n",
      "Epoch 24/30\n",
      " - 0s - loss: 0.2783 - accuracy: 0.9390\n",
      "Epoch 25/30\n",
      " - 0s - loss: 0.2758 - accuracy: 0.9405\n",
      "Epoch 26/30\n",
      " - 0s - loss: 0.2735 - accuracy: 0.9395\n",
      "Epoch 27/30\n",
      " - 0s - loss: 0.2717 - accuracy: 0.9400\n",
      "Epoch 28/30\n",
      " - 0s - loss: 0.2698 - accuracy: 0.9481\n",
      "Epoch 29/30\n",
      " - 0s - loss: 0.2682 - accuracy: 0.9419\n",
      "Epoch 30/30\n",
      " - 0s - loss: 0.2667 - accuracy: 0.9438\n"
     ]
    },
    {
     "data": {
      "text/plain": [
       "<keras.callbacks.callbacks.History at 0x1d6f34e1208>"
      ]
     },
     "execution_count": 9,
     "metadata": {},
     "output_type": "execute_result"
    }
   ],
   "source": [
    "model.fit(scaled_training,train_labels,batch_size=10, epochs=30,shuffle=True, verbose=2)    "
   ]
  },
  {
   "cell_type": "code",
   "execution_count": 15,
   "metadata": {},
   "outputs": [
    {
     "name": "stdout",
     "output_type": "stream",
     "text": [
      "Train on 1890 samples, validate on 210 samples\n",
      "Epoch 1/30\n",
      " - 0s - loss: 0.6755 - accuracy: 0.5201 - val_loss: 0.6681 - val_accuracy: 0.5000\n",
      "Epoch 2/30\n",
      " - 0s - loss: 0.6514 - accuracy: 0.5878 - val_loss: 0.6485 - val_accuracy: 0.5762\n",
      "Epoch 3/30\n",
      " - 0s - loss: 0.6290 - accuracy: 0.6481 - val_loss: 0.6267 - val_accuracy: 0.6429\n",
      "Epoch 4/30\n",
      " - 0s - loss: 0.6048 - accuracy: 0.6878 - val_loss: 0.6053 - val_accuracy: 0.6762\n",
      "Epoch 5/30\n",
      " - 0s - loss: 0.5828 - accuracy: 0.7148 - val_loss: 0.5847 - val_accuracy: 0.7048\n",
      "Epoch 6/30\n",
      " - 0s - loss: 0.5613 - accuracy: 0.7376 - val_loss: 0.5642 - val_accuracy: 0.7476\n",
      "Epoch 7/30\n",
      " - 0s - loss: 0.5404 - accuracy: 0.7577 - val_loss: 0.5440 - val_accuracy: 0.7524\n",
      "Epoch 8/30\n",
      " - 0s - loss: 0.5200 - accuracy: 0.7810 - val_loss: 0.5238 - val_accuracy: 0.7857\n",
      "Epoch 9/30\n",
      " - 0s - loss: 0.5004 - accuracy: 0.8021 - val_loss: 0.5044 - val_accuracy: 0.8048\n",
      "Epoch 10/30\n",
      " - 0s - loss: 0.4814 - accuracy: 0.8201 - val_loss: 0.4860 - val_accuracy: 0.8286\n",
      "Epoch 11/30\n",
      " - 0s - loss: 0.4634 - accuracy: 0.8323 - val_loss: 0.4681 - val_accuracy: 0.8571\n",
      "Epoch 12/30\n",
      " - 0s - loss: 0.4461 - accuracy: 0.8439 - val_loss: 0.4512 - val_accuracy: 0.8714\n",
      "Epoch 13/30\n",
      " - 0s - loss: 0.4301 - accuracy: 0.8556 - val_loss: 0.4354 - val_accuracy: 0.8714\n",
      "Epoch 14/30\n",
      " - 0s - loss: 0.4150 - accuracy: 0.8635 - val_loss: 0.4207 - val_accuracy: 0.8810\n",
      "Epoch 15/30\n",
      " - 0s - loss: 0.4010 - accuracy: 0.8698 - val_loss: 0.4070 - val_accuracy: 0.9000\n",
      "Epoch 16/30\n",
      " - 0s - loss: 0.3880 - accuracy: 0.8820 - val_loss: 0.3943 - val_accuracy: 0.9190\n",
      "Epoch 17/30\n",
      " - 0s - loss: 0.3760 - accuracy: 0.8958 - val_loss: 0.3828 - val_accuracy: 0.9238\n",
      "Epoch 18/30\n",
      " - 0s - loss: 0.3650 - accuracy: 0.9063 - val_loss: 0.3723 - val_accuracy: 0.9238\n",
      "Epoch 19/30\n",
      " - 0s - loss: 0.3554 - accuracy: 0.9063 - val_loss: 0.3628 - val_accuracy: 0.9238\n",
      "Epoch 20/30\n",
      " - 0s - loss: 0.3465 - accuracy: 0.9148 - val_loss: 0.3543 - val_accuracy: 0.9429\n",
      "Epoch 21/30\n",
      " - 0s - loss: 0.3385 - accuracy: 0.9148 - val_loss: 0.3468 - val_accuracy: 0.9429\n",
      "Epoch 22/30\n",
      " - 0s - loss: 0.3315 - accuracy: 0.9175 - val_loss: 0.3400 - val_accuracy: 0.9476\n",
      "Epoch 23/30\n",
      " - 0s - loss: 0.3251 - accuracy: 0.9196 - val_loss: 0.3339 - val_accuracy: 0.9476\n",
      "Epoch 24/30\n",
      " - 0s - loss: 0.3193 - accuracy: 0.9201 - val_loss: 0.3286 - val_accuracy: 0.9476\n",
      "Epoch 25/30\n",
      " - 0s - loss: 0.3143 - accuracy: 0.9238 - val_loss: 0.3237 - val_accuracy: 0.9476\n",
      "Epoch 26/30\n",
      " - 0s - loss: 0.3097 - accuracy: 0.9238 - val_loss: 0.3194 - val_accuracy: 0.9476\n",
      "Epoch 27/30\n",
      " - 0s - loss: 0.3056 - accuracy: 0.9254 - val_loss: 0.3154 - val_accuracy: 0.9476\n",
      "Epoch 28/30\n",
      " - 0s - loss: 0.3019 - accuracy: 0.9254 - val_loss: 0.3119 - val_accuracy: 0.9476\n",
      "Epoch 29/30\n",
      " - 0s - loss: 0.2986 - accuracy: 0.9254 - val_loss: 0.3091 - val_accuracy: 0.9476\n",
      "Epoch 30/30\n",
      " - 0s - loss: 0.2957 - accuracy: 0.9280 - val_loss: 0.3064 - val_accuracy: 0.9524\n"
     ]
    },
    {
     "data": {
      "text/plain": [
       "<keras.callbacks.callbacks.History at 0x1d6f55d0148>"
      ]
     },
     "execution_count": 15,
     "metadata": {},
     "output_type": "execute_result"
    }
   ],
   "source": [
    "######### Evaluating the model in each epoche with Validation set #############\n",
    "\n",
    "\n",
    "# There are the following 2 ways if we have already a validate_set we should shuffle before the fitting process\n",
    "# model.fit(x=scaled_training,y=train_labels,validation_data=validate_set,batch_size=10, epochs=30,shuffle=True, verbose=2) \n",
    "from sklearn.utils import shuffle\n",
    "scaled_training, train_labels = shuffle(scaled_training, train_labels)\n",
    "\n",
    "model.compile(Adam(lr=0.0001),loss=\"sparse_categorical_crossentropy\", metrics=[\"accuracy\"])\n",
    "\n",
    "model.fit(x=scaled_training,y=train_labels,validation_split=0.1,batch_size=10, epochs=30,shuffle=True, verbose=2)  "
   ]
  },
  {
   "cell_type": "code",
   "execution_count": 16,
   "metadata": {},
   "outputs": [
    {
     "data": {
      "text/plain": [
       "<matplotlib.axes._subplots.AxesSubplot at 0x1d6f559d688>"
      ]
     },
     "execution_count": 16,
     "metadata": {},
     "output_type": "execute_result"
    },
    {
     "data": {
      "image/png": "[encoded data removed]",
      "text/plain": [
       "<Figure size 432x288 with 1 Axes>"
      ]
     },
     "metadata": {
      "needs_background": "light"
     },
     "output_type": "display_data"
    }
   ],
   "source": [
    "####### Generating an unseen test set ###########\n",
    "test_labels=[]\n",
    "test_samples=[]\n",
    "#Generating the Test data with different distribution \n",
    "for i in range(20):\n",
    "    test_younger=randint(13,61)\n",
    "    test_samples.append(test_younger)\n",
    "    test_labels.append(1)\n",
    "    test_olders=randint(62,101)\n",
    "    test_samples.append(test_olders)\n",
    "    test_labels.append(0)\n",
    "for i in range(200):\n",
    "    test_younger=randint(13,61)\n",
    "    test_samples.append(test_younger)\n",
    "    test_labels.append(0)\n",
    "    test_olders=randint(62,101)\n",
    "    test_samples.append(test_olders)\n",
    "    test_labels.append(1)\n",
    "    \n",
    "#joint plot\n",
    "\n",
    "sb.distplot(test_samples)"
   ]
  },
  {
   "cell_type": "markdown",
   "metadata": {},
   "source": [
    "So the point is that the preprocessing of the data including turning into numpy array and shuffling and scaling the data is as before "
   ]
  },
  {
   "cell_type": "code",
   "execution_count": 17,
   "metadata": {},
   "outputs": [],
   "source": [
    "#converting list to numpy array for keras\n",
    "test_labels=np.array(test_labels)\n",
    "test_samples=np.array(test_samples)\n",
    "from sklearn.utils import shuffle\n",
    "test_samples , test_labels = shuffle(test_samples, test_labels)\n",
    "\n",
    "scaled_testing=scaler.fit_transform((test_samples).reshape(-1,1))"
   ]
  },
  {
   "cell_type": "markdown",
   "metadata": {},
   "source": [
    "# Prediction: \n"
   ]
  },
  {
   "cell_type": "markdown",
   "metadata": {},
   "source": [
    "So to predict we use the predict on the same model that we created and trained, and we pass the X, and batch size\n",
    "is the same as training verbose is 0 because we are not expecting any output. "
   ]
  },
  {
   "cell_type": "code",
   "execution_count": 18,
   "metadata": {},
   "outputs": [],
   "source": [
    "prediction= model.predict(x=scaled_testing , batch_size=10, verbose=0)"
   ]
  },
  {
   "cell_type": "markdown",
   "metadata": {},
   "source": [
    "so that for each input value we are having the probability value for each lable index as bellow:\n",
    "\n"
   ]
  },
  {
   "cell_type": "code",
   "execution_count": 19,
   "metadata": {},
   "outputs": [
    {
     "data": {
      "text/plain": [
       "array([[0.8880652 , 0.11193473],\n",
       "       [0.88572884, 0.11427125],\n",
       "       [0.89111555, 0.10888442],\n",
       "       [0.158022  , 0.841978  ],\n",
       "       [0.7798168 , 0.22018327],\n",
       "       [0.13206188, 0.86793816],\n",
       "       [0.89035994, 0.1096401 ],\n",
       "       [0.158022  , 0.841978  ],\n",
       "       [0.89913017, 0.1008699 ],\n",
       "       [0.89842373, 0.1015763 ]], dtype=float32)"
      ]
     },
     "execution_count": 19,
     "metadata": {},
     "output_type": "execute_result"
    }
   ],
   "source": [
    "prediction[:10]"
   ]
  },
  {
   "cell_type": "markdown",
   "metadata": {},
   "source": [
    "So to udrestand better the most probable prediction for each test case we can do the following:"
   ]
  },
  {
   "cell_type": "code",
   "execution_count": 20,
   "metadata": {},
   "outputs": [],
   "source": [
    "round_prediction= np.argmax(prediction, axis=-1)"
   ]
  },
  {
   "cell_type": "code",
   "execution_count": 21,
   "metadata": {},
   "outputs": [
    {
     "data": {
      "text/plain": [
       "array([0, 0, 0, 1, 0, 1, 0, 1, 0, 0], dtype=int64)"
      ]
     },
     "execution_count": 21,
     "metadata": {},
     "output_type": "execute_result"
    }
   ],
   "source": [
    "round_prediction[:10]"
   ]
  },
  {
   "cell_type": "markdown",
   "metadata": {},
   "source": [
    "*** in this case we are considering a real case like in production where we usualy dont have the lables for our test set so we are not applying them to the prediction, but in case we have (like here)these lables we can make a visualisation of the prediction results by ploting them to the ocnfusing matrix."
   ]
  },
  {
   "cell_type": "markdown",
   "metadata": {},
   "source": [
    "# Confusion Matrix"
   ]
  },
  {
   "cell_type": "code",
   "execution_count": 22,
   "metadata": {},
   "outputs": [],
   "source": [
    "%matplotlib inline\n",
    "from sklearn.metrics import confusion_matrix\n",
    "import itertools\n",
    "import matplotlib.pyplot as plt\n",
    "from pylab import *"
   ]
  },
  {
   "cell_type": "code",
   "execution_count": 23,
   "metadata": {},
   "outputs": [],
   "source": [
    "cm=confusion_matrix(y_true=test_labels,y_pred=round_prediction)"
   ]
  },
  {
   "cell_type": "code",
   "execution_count": 24,
   "metadata": {},
   "outputs": [],
   "source": [
    "def plot_confusion_matrix(cm,classes,normalize=False,cmap=plt.cm.Blues):\n",
    "    \n",
    "    \n",
    "    plt.imshow(cm, interpolation='nearest', cmap=cmap)\n",
    "    plt.title('confusion matrix')\n",
    "    plt.colorbar()\n",
    "    tick_marks= np.arange(len(classes))\n",
    "    plt.xticks(tick_marks,classes, rotation=45)\n",
    "    plt.yticks(tick_marks, classes)\n",
    "    \n",
    "    if normalize:\n",
    "        cm= cm.astype(\"float\")/cm.sum(axis=1)[:,np.newaxis]\n",
    "        print (\"normalized confusion matrix\")\n",
    "    else:\n",
    "        print (\"confusion matrix, without normalization\")\n",
    "        \n",
    "    print (cm)\n",
    "    \n",
    "    thresh=cm.max() /2.\n",
    "    for i,j in itertools.product(range(cm.shape[0]),range(cm.shape[1])):\n",
    "        plt.text(j, i , cm[i,j], horizontalalignment=\"center\", color=\"white\" if cm[i , j]> thresh else \"black\")\n",
    "    \n",
    "    plt.tight_layout()\n",
    "    plt.ylabel(\"True label\")\n",
    "    plt.xlabel(\"Predition labale\")\n",
    "    \n",
    "        "
   ]
  },
  {
   "cell_type": "code",
   "execution_count": 25,
   "metadata": {},
   "outputs": [
    {
     "name": "stdout",
     "output_type": "stream",
     "text": [
      "confusion matrix, without normalization\n",
      "[[198  22]\n",
      " [ 20 200]]\n"
     ]
    },
    {
     "data": {
      "image/png": "[encoded data removed]",
      "text/plain": [
       "<Figure size 432x288 with 2 Axes>"
      ]
     },
     "metadata": {
      "needs_background": "light"
     },
     "output_type": "display_data"
    }
   ],
   "source": [
    "cm_plot_labels=[\"no_effect\",\"effecting\"]\n",
    "plot_confusion_matrix(cm=cm,classes=cm_plot_labels)"
   ]
  },
  {
   "cell_type": "markdown",
   "metadata": {},
   "source": [
    "# Saving the Model"
   ]
  },
  {
   "cell_type": "code",
   "execution_count": 26,
   "metadata": {},
   "outputs": [
    {
     "name": "stdout",
     "output_type": "stream",
     "text": [
      "Model: \"sequential_2\"\n",
      "_________________________________________________________________\n",
      "Layer (type)                 Output Shape              Param #   \n",
      "=================================================================\n",
      "dense_4 (Dense)              (None, 16)                32        \n",
      "_________________________________________________________________\n",
      "dense_5 (Dense)              (None, 32)                544       \n",
      "_________________________________________________________________\n",
      "dense_6 (Dense)              (None, 2)                 66        \n",
      "=================================================================\n",
      "Total params: 642\n",
      "Trainable params: 642\n",
      "Non-trainable params: 0\n",
      "_________________________________________________________________\n"
     ]
    }
   ],
   "source": [
    "model.summary()"
   ]
  },
  {
   "cell_type": "markdown",
   "metadata": {},
   "source": [
    "## 1. model.save()"
   ]
  },
  {
   "cell_type": "markdown",
   "metadata": {},
   "source": [
    "Keras separates the concerns of saving your model architecture and saving your model weights.\n",
    "Model weights are saved to HDF5 format. This is a grid format that is ideal for storing multi-dimensional arrays of numbers.\n",
    "\n",
    "we need to save the trained models in a file and restore them in order to reuse it to compare the model with other models, to test the model on a new data. The saving of data is called Serializaion, while restoring the data is called Deserialization"
   ]
  },
  {
   "cell_type": "code",
   "execution_count": 27,
   "metadata": {
    "scrolled": true
   },
   "outputs": [],
   "source": [
    "import os.path\n",
    "if os.path.isfile(\"models/keras_first_model_generated_data.h5\") is False:\n",
    "    model.save(\"models/keras_first_model_generated_data.h5\")"
   ]
  },
  {
   "cell_type": "markdown",
   "metadata": {},
   "source": [
    "## Loading a model"
   ]
  },
  {
   "cell_type": "code",
   "execution_count": 28,
   "metadata": {},
   "outputs": [],
   "source": [
    "from tensorflow.keras.models import load_model\n",
    "loaded_model = load_model(\"models/keras_first_model_generated_data.h5\")"
   ]
  },
  {
   "cell_type": "code",
   "execution_count": 29,
   "metadata": {},
   "outputs": [
    {
     "name": "stdout",
     "output_type": "stream",
     "text": [
      "Model: \"sequential_6\"\n",
      "_________________________________________________________________\n",
      "Layer (type)                 Output Shape              Param #   \n",
      "=================================================================\n",
      "dense_16 (Dense)             (None, 16)                32        \n",
      "_________________________________________________________________\n",
      "dense_17 (Dense)             (None, 32)                544       \n",
      "_________________________________________________________________\n",
      "dense_18 (Dense)             (None, 2)                 66        \n",
      "=================================================================\n",
      "Total params: 642\n",
      "Trainable params: 642\n",
      "Non-trainable params: 0\n",
      "_________________________________________________________________\n"
     ]
    }
   ],
   "source": [
    "loaded_model.summary()"
   ]
  },
  {
   "cell_type": "code",
   "execution_count": 30,
   "metadata": {},
   "outputs": [
    {
     "data": {
      "text/plain": [
       "[array([[ 0.5149925 ,  0.670402  , -0.2545815 ,  0.61965376,  0.21330786,\n",
       "          0.25868207, -0.51722723, -0.15091419,  0.6020446 , -0.4601997 ,\n",
       "          0.23758115,  0.30785415,  0.43047333, -0.1835711 , -0.36450005,\n",
       "          0.42271364]], dtype=float32),\n",
       " array([-0.12752333, -0.16922957,  0.        ,  0.25315493, -0.07388986,\n",
       "        -0.08796801,  0.        ,  0.        , -0.16707085,  0.        ,\n",
       "         0.10769672, -0.10236   , -0.13203403,  0.        ,  0.        ,\n",
       "        -0.11755472], dtype=float32)]"
      ]
     },
     "execution_count": 30,
     "metadata": {},
     "output_type": "execute_result"
    }
   ],
   "source": [
    "loaded_model.get_weights()[:2]"
   ]
  },
  {
   "cell_type": "code",
   "execution_count": 31,
   "metadata": {},
   "outputs": [
    {
     "data": {
      "text/plain": [
       "<tensorflow.python.keras.optimizer_v2.adam.Adam at 0x1d6f6c21f08>"
      ]
     },
     "execution_count": 31,
     "metadata": {},
     "output_type": "execute_result"
    }
   ],
   "source": [
    "loaded_model.optimizer"
   ]
  },
  {
   "cell_type": "markdown",
   "metadata": {},
   "source": [
    "## 2.model.to_json()\n",
    "\n",
    "if we only want to save the structure of the model and not the wights or the training configurations we can use this method, so inorder to recunstructuring it we would need to retrain it to update its weights and compile it to get the optimizer or loss and so on.\n",
    "\n",
    "\n"
   ]
  },
  {
   "cell_type": "code",
   "execution_count": 32,
   "metadata": {},
   "outputs": [
    {
     "data": {
      "text/plain": [
       "'{\"class_name\": \"Sequential\", \"config\": {\"name\": \"sequential_2\", \"layers\": [{\"class_name\": \"Dense\", \"config\": {\"name\": \"dense_4\", \"trainable\": true, \"batch_input_shape\": [null, 1], \"dtype\": \"float32\", \"units\": 16, \"activation\": \"relu\", \"use_bias\": true, \"kernel_initializer\": {\"class_name\": \"VarianceScaling\", \"config\": {\"scale\": 1.0, \"mode\": \"fan_avg\", \"distribution\": \"uniform\", \"seed\": null}}, \"bias_initializer\": {\"class_name\": \"Zeros\", \"config\": {}}, \"kernel_regularizer\": null, \"bias_regularizer\": null, \"activity_regularizer\": null, \"kernel_constraint\": null, \"bias_constraint\": null}}, {\"class_name\": \"Dense\", \"config\": {\"name\": \"dense_5\", \"trainable\": true, \"dtype\": \"float32\", \"units\": 32, \"activation\": \"relu\", \"use_bias\": true, \"kernel_initializer\": {\"class_name\": \"VarianceScaling\", \"config\": {\"scale\": 1.0, \"mode\": \"fan_avg\", \"distribution\": \"uniform\", \"seed\": null}}, \"bias_initializer\": {\"class_name\": \"Zeros\", \"config\": {}}, \"kernel_regularizer\": null, \"bias_regularizer\": null, \"activity_regularizer\": null, \"kernel_constraint\": null, \"bias_constraint\": null}}, {\"class_name\": \"Dense\", \"config\": {\"name\": \"dense_6\", \"trainable\": true, \"dtype\": \"float32\", \"units\": 2, \"activation\": \"softmax\", \"use_bias\": true, \"kernel_initializer\": {\"class_name\": \"VarianceScaling\", \"config\": {\"scale\": 1.0, \"mode\": \"fan_avg\", \"distribution\": \"uniform\", \"seed\": null}}, \"bias_initializer\": {\"class_name\": \"Zeros\", \"config\": {}}, \"kernel_regularizer\": null, \"bias_regularizer\": null, \"activity_regularizer\": null, \"kernel_constraint\": null, \"bias_constraint\": null}}]}, \"keras_version\": \"2.3.1\", \"backend\": \"tensorflow\"}'"
      ]
     },
     "execution_count": 32,
     "metadata": {},
     "output_type": "execute_result"
    }
   ],
   "source": [
    "#save as Json\n",
    "json_model=model.to_json()\n",
    "\n",
    "#save as Yaml\n",
    "#yaml_model=model.to_yaml()\n",
    "json_model"
   ]
  },
  {
   "cell_type": "markdown",
   "metadata": {},
   "source": [
    "### Model reconstruction from Json:\n"
   ]
  },
  {
   "cell_type": "code",
   "execution_count": 33,
   "metadata": {},
   "outputs": [],
   "source": [
    "from tensorflow.keras.models import model_from_json\n",
    "model_architecture= model_from_json(json_model)\n",
    "\n",
    "#Model reconstruction from the yaml\n",
    "#from tensorflow.keras.models import model_from_yaml\n",
    "#model_architecture= model_from_yaml(yaml_model)"
   ]
  },
  {
   "cell_type": "code",
   "execution_count": 34,
   "metadata": {},
   "outputs": [
    {
     "name": "stdout",
     "output_type": "stream",
     "text": [
      "Model: \"sequential_2\"\n",
      "_________________________________________________________________\n",
      "Layer (type)                 Output Shape              Param #   \n",
      "=================================================================\n",
      "dense_4 (Dense)              (None, 16)                32        \n",
      "_________________________________________________________________\n",
      "dense_5 (Dense)              (None, 32)                544       \n",
      "_________________________________________________________________\n",
      "dense_6 (Dense)              (None, 2)                 66        \n",
      "=================================================================\n",
      "Total params: 642\n",
      "Trainable params: 642\n",
      "Non-trainable params: 0\n",
      "_________________________________________________________________\n"
     ]
    }
   ],
   "source": [
    "model_architecture.summary()"
   ]
  },
  {
   "cell_type": "markdown",
   "metadata": {},
   "source": [
    "## 3. model.save_weights()\n",
    "the other way of saving a model is to save the weights. If you only need to save the weights of the model and not the architecture or training config like optimizer etc."
   ]
  },
  {
   "cell_type": "code",
   "execution_count": 37,
   "metadata": {},
   "outputs": [],
   "source": [
    "if os.path.isfile(\"models/keras_first_model_weights_generated_data.h5\") is False:\n",
    "    model.save_weights(\"models/keras_first_model_weights_generated_data.h5\")"
   ]
  },
  {
   "cell_type": "markdown",
   "metadata": {},
   "source": [
    "In this case as we have not save the model , in order to reload the weights we need to create another model and do the following:\n"
   ]
  },
  {
   "cell_type": "code",
   "execution_count": 38,
   "metadata": {},
   "outputs": [],
   "source": [
    "model2 = Sequential([\n",
    "    Dense(16,input_shape=(1,),activation=\"relu\"),\n",
    "    Dense(32, activation=\"relu\"),\n",
    "    Dense(2, activation=\"softmax\")\n",
    "])"
   ]
  },
  {
   "cell_type": "code",
   "execution_count": 39,
   "metadata": {},
   "outputs": [],
   "source": [
    "model2.load_weights(\"models/keras_first_model_weights_generated_data.h5\")"
   ]
  },
  {
   "cell_type": "code",
   "execution_count": 41,
   "metadata": {},
   "outputs": [
    {
     "data": {
      "text/plain": [
       "[array([[ 0.65448564, -0.5626636 , -0.4527567 , -0.07140219, -0.14710712,\n",
       "         -0.53756356, -0.00596923, -0.49168143,  0.7253853 ,  0.55953944,\n",
       "          0.5661965 ,  0.7996503 , -0.53300214, -0.17413521, -0.18698227,\n",
       "         -0.515024  ]], dtype=float32),\n",
       " array([-0.16304198,  0.        ,  0.        ,  0.        ,  0.        ,\n",
       "         0.        ,  0.        ,  0.        , -0.167826  , -0.166938  ,\n",
       "        -0.14632492,  0.08630951,  0.        ,  0.        ,  0.        ,\n",
       "         0.        ], dtype=float32)]"
      ]
     },
     "execution_count": 41,
     "metadata": {},
     "output_type": "execute_result"
    }
   ],
   "source": [
    "model2.get_weights()[:2]"
   ]
  },
  {
   "cell_type": "code",
   "execution_count": null,
   "metadata": {},
   "outputs": [],
   "source": []
  }
 ],
 "metadata": {
  "kernelspec": {
   "display_name": "Python 3",
   "language": "python",
   "name": "python3"
  },
  "language_info": {
   "codemirror_mode": {
    "name": "ipython",
    "version": 3
   },
   "file_extension": ".py",
   "mimetype": "text/x-python",
   "name": "python",
   "nbconvert_exporter": "python",
   "pygments_lexer": "ipython3",
   "version": "3.7.4"
  }
 },
 "nbformat": 4,
 "nbformat_minor": 2
}
