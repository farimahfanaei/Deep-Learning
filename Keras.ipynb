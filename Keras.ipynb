{
 "cells": [
  {
   "cell_type": "code",
   "execution_count": 176,
   "metadata": {},
   "outputs": [],
   "source": [
    "import keras\n",
    "from keras import backend as k \n",
    "from keras.models import Sequential\n",
    "from keras.layers import Activation\n",
    "from keras.layers.core import Dense\n",
    "from keras.optimizers import Adam \n",
    "from keras.metrics import categorical_crossentropy"
   ]
  },
  {
   "cell_type": "code",
   "execution_count": 177,
   "metadata": {},
   "outputs": [],
   "source": [
    "import numpy as np\n",
    "from random import randint\n",
    "from sklearn.preprocessing import MinMaxScaler\n"
   ]
  },
  {
   "cell_type": "code",
   "execution_count": 178,
   "metadata": {},
   "outputs": [],
   "source": [
    "################## Data Generation #########################\n",
    "train_labels=[]\n",
    "train_samples=[]\n",
    "#Generating the Data with Binary output in a random way just for the sake of this DL model training with 2100 input data\n",
    "for i in range(1000):\n",
    "    younger=randint(13,61)\n",
    "    train_samples.append(younger)\n",
    "    train_labels.append(0)\n",
    "    olders=randint(62,101)\n",
    "    train_samples.append(olders)\n",
    "    train_labels.append(1)\n",
    "for i in range(50):\n",
    "    younger=randint(13,61)\n",
    "    train_samples.append(younger)\n",
    "    train_labels.append(1)\n",
    "    olders=randint(62,101)\n",
    "    train_samples.append(olders)\n",
    "    train_labels.append(0)\n",
    "    "
   ]
  },
  {
   "cell_type": "code",
   "execution_count": 179,
   "metadata": {},
   "outputs": [
    {
     "data": {
      "text/plain": [
       "<matplotlib.axes._subplots.AxesSubplot at 0x248cc522208>"
      ]
     },
     "execution_count": 179,
     "metadata": {},
     "output_type": "execute_result"
    },
    {
     "data": {
      "image/png": "[encoded data removed]",
      "text/plain": [
       "<Figure size 432x288 with 1 Axes>"
      ]
     },
     "metadata": {
      "needs_background": "light"
     },
     "output_type": "display_data"
    }
   ],
   "source": [
    "#joint plot\n",
    "import seaborn as sb\n",
    "sb.distplot(train_samples)"
   ]
  },
  {
   "cell_type": "code",
   "execution_count": 180,
   "metadata": {},
   "outputs": [],
   "source": [
    "######################## Data Pre-processing ########################\n",
    "#converting list to numpy array for keras\n",
    "train_labels=np.array(train_labels)\n",
    "train_samples=np.array(train_samples)\n",
    "\n",
    "# to make is easier for the NN to train this data (do the optimization process) we need to get the data in the followin \n",
    "# form inorder to scale the inputes into a smaller range \n",
    "\n",
    "scaler= MinMaxScaler(feature_range=(0,1))\n",
    "scaled_training=scaler.fit_transform((train_samples).reshape(-1,1))\n",
    "\n"
   ]
  },
  {
   "cell_type": "code",
   "execution_count": 181,
   "metadata": {},
   "outputs": [],
   "source": [
    "model = Sequential([\n",
    "    #the first layer has 16 hidden units and an input with arrays of shape (*, 1)\n",
    "    Dense(16,input_shape=(1,),activation=\"relu\"),\n",
    "    Dense(32, activation=\"relu\"),\n",
    "    Dense(2, activation=\"softmax\")\n",
    "])"
   ]
  },
  {
   "cell_type": "code",
   "execution_count": 182,
   "metadata": {},
   "outputs": [],
   "source": [
    "#Adam is an optimization method which is a derivation of SGD\n",
    "model.compile(Adam(lr=0.0001),loss=\"sparse_categorical_crossentropy\", metrics=[\"accuracy\"])"
   ]
  },
  {
   "cell_type": "code",
   "execution_count": 183,
   "metadata": {},
   "outputs": [
    {
     "name": "stdout",
     "output_type": "stream",
     "text": [
      "Epoch 1/30\n",
      " - 1s - loss: 0.6757 - accuracy: 0.5205\n",
      "Epoch 2/30\n",
      " - 1s - loss: 0.6360 - accuracy: 0.6200\n",
      "Epoch 3/30\n",
      " - 1s - loss: 0.5979 - accuracy: 0.7043\n",
      "Epoch 4/30\n",
      " - 1s - loss: 0.5645 - accuracy: 0.7581\n",
      "Epoch 5/30\n",
      " - 0s - loss: 0.5329 - accuracy: 0.7910\n",
      "Epoch 6/30\n",
      " - 1s - loss: 0.5024 - accuracy: 0.8319\n",
      "Epoch 7/30\n",
      " - 1s - loss: 0.4725 - accuracy: 0.8495\n",
      "Epoch 8/30\n",
      " - 1s - loss: 0.4440 - accuracy: 0.8686\n",
      "Epoch 9/30\n",
      " - 0s - loss: 0.4179 - accuracy: 0.8819\n",
      "Epoch 10/30\n",
      " - 0s - loss: 0.3938 - accuracy: 0.9005\n",
      "Epoch 11/30\n",
      " - 1s - loss: 0.3722 - accuracy: 0.9062\n",
      "Epoch 12/30\n",
      " - 0s - loss: 0.3535 - accuracy: 0.9157\n",
      "Epoch 13/30\n",
      " - 0s - loss: 0.3380 - accuracy: 0.9200\n",
      "Epoch 14/30\n",
      " - 0s - loss: 0.3251 - accuracy: 0.9281\n",
      "Epoch 15/30\n",
      " - 0s - loss: 0.3144 - accuracy: 0.9329\n",
      "Epoch 16/30\n",
      " - 0s - loss: 0.3055 - accuracy: 0.9314\n",
      "Epoch 17/30\n",
      " - 0s - loss: 0.2977 - accuracy: 0.9333\n",
      "Epoch 18/30\n",
      " - 0s - loss: 0.2917 - accuracy: 0.9390\n",
      "Epoch 19/30\n",
      " - 0s - loss: 0.2862 - accuracy: 0.9367\n",
      "Epoch 20/30\n",
      " - 0s - loss: 0.2818 - accuracy: 0.9400\n",
      "Epoch 21/30\n",
      " - 1s - loss: 0.2776 - accuracy: 0.9452\n",
      "Epoch 22/30\n",
      " - 1s - loss: 0.2743 - accuracy: 0.9414\n",
      "Epoch 23/30\n",
      " - 1s - loss: 0.2711 - accuracy: 0.9395\n",
      "Epoch 24/30\n",
      " - 1s - loss: 0.2684 - accuracy: 0.9410\n",
      "Epoch 25/30\n",
      " - 1s - loss: 0.2660 - accuracy: 0.9419\n",
      "Epoch 26/30\n",
      " - 1s - loss: 0.2640 - accuracy: 0.9448\n",
      "Epoch 27/30\n",
      " - 1s - loss: 0.2621 - accuracy: 0.9467\n",
      "Epoch 28/30\n",
      " - 1s - loss: 0.2603 - accuracy: 0.9467\n",
      "Epoch 29/30\n",
      " - 1s - loss: 0.2587 - accuracy: 0.9424\n",
      "Epoch 30/30\n",
      " - 1s - loss: 0.2573 - accuracy: 0.9467\n"
     ]
    },
    {
     "data": {
      "text/plain": [
       "<keras.callbacks.callbacks.History at 0x248ce385e08>"
      ]
     },
     "execution_count": 183,
     "metadata": {},
     "output_type": "execute_result"
    }
   ],
   "source": [
    "model.fit(scaled_training,train_labels,batch_size=10, epochs=30,shuffle=True, verbose=2)    "
   ]
  },
  {
   "cell_type": "code",
   "execution_count": 29,
   "metadata": {},
   "outputs": [
    {
     "name": "stdout",
     "output_type": "stream",
     "text": [
      "Train on 1890 samples, validate on 210 samples\n",
      "Epoch 1/30\n",
      " - 1s - loss: 0.6758 - accuracy: 0.5741 - val_loss: 0.6567 - val_accuracy: 0.6048\n",
      "Epoch 2/30\n",
      " - 1s - loss: 0.6452 - accuracy: 0.6392 - val_loss: 0.6209 - val_accuracy: 0.6905\n",
      "Epoch 3/30\n",
      " - 1s - loss: 0.6140 - accuracy: 0.7127 - val_loss: 0.5903 - val_accuracy: 0.7286\n",
      "Epoch 4/30\n",
      " - 0s - loss: 0.5869 - accuracy: 0.7349 - val_loss: 0.5612 - val_accuracy: 0.7714\n",
      "Epoch 5/30\n",
      " - 0s - loss: 0.5595 - accuracy: 0.7598 - val_loss: 0.5318 - val_accuracy: 0.8048\n",
      "Epoch 6/30\n",
      " - 1s - loss: 0.5327 - accuracy: 0.7905 - val_loss: 0.5032 - val_accuracy: 0.8429\n",
      "Epoch 7/30\n",
      " - 1s - loss: 0.5061 - accuracy: 0.8180 - val_loss: 0.4746 - val_accuracy: 0.8619\n",
      "Epoch 8/30\n",
      " - 1s - loss: 0.4798 - accuracy: 0.8370 - val_loss: 0.4472 - val_accuracy: 0.8952\n",
      "Epoch 9/30\n",
      " - 1s - loss: 0.4544 - accuracy: 0.8630 - val_loss: 0.4203 - val_accuracy: 0.8952\n",
      "Epoch 10/30\n",
      " - 1s - loss: 0.4304 - accuracy: 0.8725 - val_loss: 0.3956 - val_accuracy: 0.9238\n",
      "Epoch 11/30\n",
      " - 1s - loss: 0.4080 - accuracy: 0.8931 - val_loss: 0.3721 - val_accuracy: 0.9286\n",
      "Epoch 12/30\n",
      " - 1s - loss: 0.3875 - accuracy: 0.8989 - val_loss: 0.3506 - val_accuracy: 0.9381\n",
      "Epoch 13/30\n",
      " - 0s - loss: 0.3691 - accuracy: 0.9063 - val_loss: 0.3318 - val_accuracy: 0.9429\n",
      "Epoch 14/30\n",
      " - 0s - loss: 0.3530 - accuracy: 0.9138 - val_loss: 0.3145 - val_accuracy: 0.9429\n",
      "Epoch 15/30\n",
      " - 1s - loss: 0.3389 - accuracy: 0.9175 - val_loss: 0.3000 - val_accuracy: 0.9429\n",
      "Epoch 16/30\n",
      " - 1s - loss: 0.3267 - accuracy: 0.9217 - val_loss: 0.2868 - val_accuracy: 0.9429\n",
      "Epoch 17/30\n",
      " - 1s - loss: 0.3166 - accuracy: 0.9249 - val_loss: 0.2762 - val_accuracy: 0.9429\n",
      "Epoch 18/30\n",
      " - 1s - loss: 0.3080 - accuracy: 0.9238 - val_loss: 0.2670 - val_accuracy: 0.9476\n",
      "Epoch 19/30\n",
      " - 1s - loss: 0.3006 - accuracy: 0.9270 - val_loss: 0.2593 - val_accuracy: 0.9476\n",
      "Epoch 20/30\n",
      " - 1s - loss: 0.2946 - accuracy: 0.9323 - val_loss: 0.2529 - val_accuracy: 0.9571\n",
      "Epoch 21/30\n",
      " - 1s - loss: 0.2894 - accuracy: 0.9339 - val_loss: 0.2466 - val_accuracy: 0.9571\n",
      "Epoch 22/30\n",
      " - 1s - loss: 0.2849 - accuracy: 0.9365 - val_loss: 0.2414 - val_accuracy: 0.9571\n",
      "Epoch 23/30\n",
      " - 1s - loss: 0.2811 - accuracy: 0.9402 - val_loss: 0.2371 - val_accuracy: 0.9571\n",
      "Epoch 24/30\n",
      " - 1s - loss: 0.2779 - accuracy: 0.9397 - val_loss: 0.2333 - val_accuracy: 0.9571\n",
      "Epoch 25/30\n",
      " - 1s - loss: 0.2752 - accuracy: 0.9376 - val_loss: 0.2303 - val_accuracy: 0.9571\n",
      "Epoch 26/30\n",
      " - 1s - loss: 0.2729 - accuracy: 0.9439 - val_loss: 0.2273 - val_accuracy: 0.9571\n",
      "Epoch 27/30\n",
      " - 1s - loss: 0.2708 - accuracy: 0.9370 - val_loss: 0.2255 - val_accuracy: 0.9571\n",
      "Epoch 28/30\n",
      " - 1s - loss: 0.2691 - accuracy: 0.9423 - val_loss: 0.2231 - val_accuracy: 0.9571\n",
      "Epoch 29/30\n",
      " - 1s - loss: 0.2675 - accuracy: 0.9402 - val_loss: 0.2211 - val_accuracy: 0.9571\n",
      "Epoch 30/30\n",
      " - 0s - loss: 0.2660 - accuracy: 0.9407 - val_loss: 0.2199 - val_accuracy: 0.9667\n"
     ]
    },
    {
     "data": {
      "text/plain": [
       "<keras.callbacks.callbacks.History at 0x248c7edf408>"
      ]
     },
     "execution_count": 29,
     "metadata": {},
     "output_type": "execute_result"
    }
   ],
   "source": [
    "######### Evaluating the model in each epoche with Validation set #############\n",
    "\n",
    "\n",
    "# There are the following 2 ways if we have already a validate_set we should shuffle before the fitting process\n",
    "# model.fit(x=scaled_training,y=train_labels,validation_data=validate_set,batch_size=10, epochs=30,shuffle=True, verbose=2) \n",
    "from sklearn.utils import shuffle\n",
    "scaled_training, train_labels = shuffle(scaled_training, train_labels)\n",
    "\n",
    "model.compile(Adam(lr=0.0001),loss=\"sparse_categorical_crossentropy\", metrics=[\"accuracy\"])\n",
    "\n",
    "model.fit(x=scaled_training,y=train_labels,validation_split=0.1,batch_size=10, epochs=30,shuffle=True, verbose=2)  "
   ]
  },
  {
   "cell_type": "code",
   "execution_count": 184,
   "metadata": {},
   "outputs": [
    {
     "data": {
      "text/plain": [
       "<matplotlib.axes._subplots.AxesSubplot at 0x248cc3e5548>"
      ]
     },
     "execution_count": 184,
     "metadata": {},
     "output_type": "execute_result"
    },
    {
     "data": {
      "image/png": "[encoded data removed]",
      "text/plain": [
       "<Figure size 432x288 with 1 Axes>"
      ]
     },
     "metadata": {
      "needs_background": "light"
     },
     "output_type": "display_data"
    }
   ],
   "source": [
    "####### Generating an unseen test set ###########\n",
    "test_labels=[]\n",
    "test_samples=[]\n",
    "#Generating the Test data with different distribution \n",
    "for i in range(20):\n",
    "    test_younger=randint(13,61)\n",
    "    test_samples.append(test_younger)\n",
    "    test_labels.append(1)\n",
    "    test_olders=randint(62,101)\n",
    "    test_samples.append(test_olders)\n",
    "    test_labels.append(0)\n",
    "for i in range(200):\n",
    "    test_younger=randint(13,61)\n",
    "    test_samples.append(test_younger)\n",
    "    test_labels.append(0)\n",
    "    test_olders=randint(62,101)\n",
    "    test_samples.append(test_olders)\n",
    "    test_labels.append(1)\n",
    "    \n",
    "#joint plot\n",
    "\n",
    "sb.distplot(test_samples)"
   ]
  },
  {
   "cell_type": "markdown",
   "metadata": {},
   "source": [
    "So the point is that the preprocessing of the data including turning into numpy array and shuffling and scaling the data is as before "
   ]
  },
  {
   "cell_type": "code",
   "execution_count": 185,
   "metadata": {},
   "outputs": [],
   "source": [
    "#converting list to numpy array for keras\n",
    "test_labels=np.array(test_labels)\n",
    "test_samples=np.array(test_samples)\n",
    "from sklearn.utils import shuffle\n",
    "test_samples , test_labels = shuffle(test_samples, test_labels)\n",
    "\n",
    "scaled_testing=scaler.fit_transform((test_samples).reshape(-1,1))"
   ]
  },
  {
   "cell_type": "markdown",
   "metadata": {},
   "source": [
    "# Prediction: \n"
   ]
  },
  {
   "cell_type": "markdown",
   "metadata": {},
   "source": [
    "So to predict we use the predict on the same model that we created and trained, and we pass the X, and batch size\n",
    "is the same as training verbose is 0 because we are not expecting any output. "
   ]
  },
  {
   "cell_type": "code",
   "execution_count": 186,
   "metadata": {},
   "outputs": [],
   "source": [
    "prediction= model.predict(x=scaled_testing , batch_size=10, verbose=0)"
   ]
  },
  {
   "cell_type": "markdown",
   "metadata": {},
   "source": [
    "so that for each input value we are having the probability value for each lable index as bellow:\n",
    "\n"
   ]
  },
  {
   "cell_type": "code",
   "execution_count": 187,
   "metadata": {},
   "outputs": [
    {
     "data": {
      "text/plain": [
       "array([[0.08001028, 0.91998976],\n",
       "       [0.9596464 , 0.0403536 ],\n",
       "       [0.9591995 , 0.04080049],\n",
       "       [0.06543021, 0.93456984],\n",
       "       [0.6972144 , 0.30278552],\n",
       "       [0.9385961 , 0.06140387],\n",
       "       [0.06543021, 0.93456984],\n",
       "       [0.9602609 , 0.03973909],\n",
       "       [0.31914264, 0.68085736],\n",
       "       [0.953499  , 0.04650099]], dtype=float32)"
      ]
     },
     "execution_count": 187,
     "metadata": {},
     "output_type": "execute_result"
    }
   ],
   "source": [
    "prediction[:10]"
   ]
  },
  {
   "cell_type": "markdown",
   "metadata": {},
   "source": [
    "So to udrestand better the most probable prediction for each test case we can do the following:"
   ]
  },
  {
   "cell_type": "code",
   "execution_count": 188,
   "metadata": {},
   "outputs": [],
   "source": [
    "round_prediction= np.argmax(prediction, axis=-1)"
   ]
  },
  {
   "cell_type": "code",
   "execution_count": 189,
   "metadata": {},
   "outputs": [
    {
     "data": {
      "text/plain": [
       "array([1, 0, 0, 1, 0, 0, 1, 0, 1, 0], dtype=int64)"
      ]
     },
     "execution_count": 189,
     "metadata": {},
     "output_type": "execute_result"
    }
   ],
   "source": [
    "round_prediction[:10]"
   ]
  },
  {
   "cell_type": "markdown",
   "metadata": {},
   "source": [
    "*** in this case we are considering a real case like in production where we usualy dont have the lables for our test set so we are not applying them to the prediction, but in case we have (like here)these lables we can make a visualisation of the prediction results by ploting them to the ocnfusing matrix."
   ]
  },
  {
   "cell_type": "markdown",
   "metadata": {},
   "source": [
    "# Confusion Matrix"
   ]
  },
  {
   "cell_type": "code",
   "execution_count": 190,
   "metadata": {},
   "outputs": [],
   "source": [
    "%matplotlib inline\n",
    "from sklearn.metrics import confusion_matrix\n",
    "import itertools\n",
    "import matplotlib.pyplot as plt\n",
    "from pylab import *"
   ]
  },
  {
   "cell_type": "code",
   "execution_count": 191,
   "metadata": {},
   "outputs": [],
   "source": [
    "cm=confusion_matrix(y_true=test_labels,y_pred=round_prediction)"
   ]
  },
  {
   "cell_type": "code",
   "execution_count": 192,
   "metadata": {},
   "outputs": [],
   "source": [
    "def plot_confusion_matrix(cm,classes,normalize=False,cmap=plt.cm.Blues):\n",
    "    \n",
    "    \n",
    "    plt.imshow(cm, interpolation='nearest', cmap=cmap)\n",
    "    plt.title('confusion matrix')\n",
    "    plt.colorbar()\n",
    "    tick_marks= np.arange(len(classes))\n",
    "    plt.xticks(tick_marks,classes, rotation=45)\n",
    "    plt.yticks(tick_marks, classes)\n",
    "    \n",
    "    if normalize:\n",
    "        cm= cm.astype(\"float\")/cm.sum(axis=1)[:,np.newaxis]\n",
    "        print (\"normalized confusion matrix\")\n",
    "    else:\n",
    "        print (\"confusion matrix, without normalization\")\n",
    "        \n",
    "    print (cm)\n",
    "    \n",
    "    thresh=cm.max() /2.\n",
    "    for i,j in itertools.product(range(cm.shape[0]),range(cm.shape[1])):\n",
    "        plt.text(j, i , cm[i,j], horizontalalignment=\"center\", color=\"white\" if cm[i , j]> thresh else \"black\")\n",
    "    \n",
    "    plt.tight_layout()\n",
    "    plt.ylabel(\"True label\")\n",
    "    plt.xlabel(\"Predition labale\")\n",
    "    \n",
    "        "
   ]
  },
  {
   "cell_type": "code",
   "execution_count": 193,
   "metadata": {},
   "outputs": [
    {
     "name": "stdout",
     "output_type": "stream",
     "text": [
      "confusion matrix, without normalization\n",
      "[[199  21]\n",
      " [ 20 200]]\n"
     ]
    },
    {
     "data": {
      "image/png": "[encoded data removed]",
      "text/plain": [
       "<Figure size 432x288 with 2 Axes>"
      ]
     },
     "metadata": {
      "needs_background": "light"
     },
     "output_type": "display_data"
    }
   ],
   "source": [
    "cm_plot_labels=[\"no_effect\",\"effecting\"]\n",
    "plot_confusion_matrix(cm=cm,classes=cm_plot_labels)"
   ]
  },
  {
   "cell_type": "markdown",
   "metadata": {},
   "source": [
    "# Saving the Model"
   ]
  },
  {
   "cell_type": "code",
   "execution_count": 194,
   "metadata": {},
   "outputs": [
    {
     "name": "stdout",
     "output_type": "stream",
     "text": [
      "Model: \"sequential_6\"\n",
      "_________________________________________________________________\n",
      "Layer (type)                 Output Shape              Param #   \n",
      "=================================================================\n",
      "dense_16 (Dense)             (None, 16)                32        \n",
      "_________________________________________________________________\n",
      "dense_17 (Dense)             (None, 32)                544       \n",
      "_________________________________________________________________\n",
      "dense_18 (Dense)             (None, 2)                 66        \n",
      "=================================================================\n",
      "Total params: 642\n",
      "Trainable params: 642\n",
      "Non-trainable params: 0\n",
      "_________________________________________________________________\n"
     ]
    }
   ],
   "source": [
    "model.summary()"
   ]
  },
  {
   "cell_type": "markdown",
   "metadata": {},
   "source": [
    "## 1. model.save()"
   ]
  },
  {
   "cell_type": "markdown",
   "metadata": {},
   "source": [
    "Keras separates the concerns of saving your model architecture and saving your model weights.\n",
    "Model weights are saved to HDF5 format. This is a grid format that is ideal for storing multi-dimensional arrays of numbers.\n",
    "\n",
    "we need to save the trained models in a file and restore them in order to reuse it to compare the model with other models, to test the model on a new data. The saving of data is called Serializaion, while restoring the data is called Deserialization"
   ]
  },
  {
   "cell_type": "code",
   "execution_count": 198,
   "metadata": {
    "scrolled": true
   },
   "outputs": [],
   "source": [
    "import os.path\n",
    "if os.path.isfile(\"models/keras_first_model_generated_data.h5\") is False:\n",
    "    model.save(\"models/keras_first_model_generated_data.h5\")"
   ]
  },
  {
   "cell_type": "markdown",
   "metadata": {},
   "source": [
    "## Loading a model"
   ]
  },
  {
   "cell_type": "code",
   "execution_count": 2,
   "metadata": {},
   "outputs": [],
   "source": [
    "from tensorflow.keras.models import load_model\n",
    "loaded_model = load_model(\"models/keras_first_model_generated_data.h5\")"
   ]
  },
  {
   "cell_type": "code",
   "execution_count": 3,
   "metadata": {},
   "outputs": [
    {
     "name": "stdout",
     "output_type": "stream",
     "text": [
      "Model: \"sequential_6\"\n",
      "_________________________________________________________________\n",
      "Layer (type)                 Output Shape              Param #   \n",
      "=================================================================\n",
      "dense_16 (Dense)             (None, 16)                32        \n",
      "_________________________________________________________________\n",
      "dense_17 (Dense)             (None, 32)                544       \n",
      "_________________________________________________________________\n",
      "dense_18 (Dense)             (None, 2)                 66        \n",
      "=================================================================\n",
      "Total params: 642\n",
      "Trainable params: 642\n",
      "Non-trainable params: 0\n",
      "_________________________________________________________________\n"
     ]
    }
   ],
   "source": [
    "loaded_model.summary()"
   ]
  },
  {
   "cell_type": "code",
   "execution_count": 8,
   "metadata": {},
   "outputs": [
    {
     "data": {
      "text/plain": [
       "[array([[ 0.5149925 ,  0.670402  , -0.2545815 ,  0.61965376,  0.21330786,\n",
       "          0.25868207, -0.51722723, -0.15091419,  0.6020446 , -0.4601997 ,\n",
       "          0.23758115,  0.30785415,  0.43047333, -0.1835711 , -0.36450005,\n",
       "          0.42271364]], dtype=float32),\n",
       " array([-0.12752333, -0.16922957,  0.        ,  0.25315493, -0.07388986,\n",
       "        -0.08796801,  0.        ,  0.        , -0.16707085,  0.        ,\n",
       "         0.10769672, -0.10236   , -0.13203403,  0.        ,  0.        ,\n",
       "        -0.11755472], dtype=float32)]"
      ]
     },
     "execution_count": 8,
     "metadata": {},
     "output_type": "execute_result"
    }
   ],
   "source": [
    "loaded_model.get_weights()[:2]"
   ]
  },
  {
   "cell_type": "code",
   "execution_count": 9,
   "metadata": {},
   "outputs": [
    {
     "data": {
      "text/plain": [
       "<tensorflow.python.keras.optimizer_v2.adam.Adam at 0x1f6ab2198c8>"
      ]
     },
     "execution_count": 9,
     "metadata": {},
     "output_type": "execute_result"
    }
   ],
   "source": [
    "loaded_model.optimizer"
   ]
  },
  {
   "cell_type": "code",
   "execution_count": null,
   "metadata": {},
   "outputs": [],
   "source": []
  }
 ],
 "metadata": {
  "kernelspec": {
   "display_name": "Python 3",
   "language": "python",
   "name": "python3"
  },
  "language_info": {
   "codemirror_mode": {
    "name": "ipython",
    "version": 3
   },
   "file_extension": ".py",
   "mimetype": "text/x-python",
   "name": "python",
   "nbconvert_exporter": "python",
   "pygments_lexer": "ipython3",
   "version": "3.7.4"
  }
 },
 "nbformat": 4,
 "nbformat_minor": 2
}
